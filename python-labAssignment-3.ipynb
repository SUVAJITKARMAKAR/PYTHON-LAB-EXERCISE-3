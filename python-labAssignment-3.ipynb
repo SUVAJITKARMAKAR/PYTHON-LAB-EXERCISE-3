{
 "cells": [
  {
   "cell_type": "code",
   "execution_count": 43,
   "metadata": {},
   "outputs": [
    {
     "name": "stdout",
     "output_type": "stream",
     "text": [
      "{'Name': 'SUVAJIT', 'Domain Name': 'KARMAKAR', 'Register Number': 'SOCIALNETWORKINSITE'}\n"
     ]
    }
   ],
   "source": [
    "# Write a function in Python with a string such that it accepts a parameter- “stringsplit”. This encoded string will contain your name, domain name and register number. You can separate the values in the string by any number of underscores. [The string should not contain any other underscore symbols in your name, domain name and register number]. The function should return a Python dictionary with your name, domain name and register number._\n",
    "\n",
    "\n",
    "def string_operation_on_domain(string_information):\n",
    "    parts_of_string = string_information.split('_')\n",
    "    parts_of_string = list(filter(None, parts_of_string))\n",
    "    \n",
    "    name = parts_of_string[0]\n",
    "    domain_name = parts_of_string[1]\n",
    "    register_number = parts_of_string[2]\n",
    "\n",
    "    information_dictionary = {\n",
    "        \"Name\": name,\n",
    "        \"Domain Name\": domain_name,\n",
    "        \"Register Number\": register_number\n",
    "    }\n",
    "    \n",
    "    return information_dictionary\n",
    "\n",
    "\n",
    "string_information = str(input(\"ENTER THE DETAILS : \"))\n",
    "resultant_information = string_operation_on_domain(string_information)\n",
    "print(resultant_information)\n"
   ]
  }
 ],
 "metadata": {
  "language_info": {
   "name": "python"
  },
  "orig_nbformat": 4
 },
 "nbformat": 4,
 "nbformat_minor": 2
}
